{
 "cells": [
  {
   "cell_type": "code",
   "execution_count": 1,
   "metadata": {},
   "outputs": [
    {
     "name": "stdout",
     "output_type": "stream",
     "text": [
      "Código da DEF pai\n",
      "Olá, eu sou a responsividade da função filha 1\n",
      "Olá, eu sou a filha 2\n"
     ]
    }
   ],
   "source": [
    "def pai():\n",
    "    print('Código da DEF pai')\n",
    "    \n",
    "    def filha01():\n",
    "        print('Olá, eu sou a responsividade da função filha 1')\n",
    "        \n",
    "    def filha02():\n",
    "        print('Olá, eu sou a filha 2')\n",
    "        \n",
    "    filha01()\n",
    "    filha02()\n",
    "    \n",
    "pai()"
   ]
  },
  {
   "cell_type": "code",
   "execution_count": 15,
   "metadata": {},
   "outputs": [],
   "source": [
    "def Calcular(simbolo):\n",
    "    def somar(x,y):\n",
    "        return x + y\n",
    "    def subtrair(x,y):\n",
    "        return x - y\n",
    "    def dividir(x,y):\n",
    "        if x == 0:\n",
    "            raise Exception('Número não válido')\n",
    "        return x/y\n",
    "    def multiplicar(x,y):\n",
    "        return x*y\n",
    "    \n",
    "    match simbolo:\n",
    "        case \"+\":\n",
    "            return somar\n",
    "        case \"-\":\n",
    "            return subtrair\n",
    "        case \"/\":\n",
    "            return dividir\n",
    "        case \"*\":\n",
    "            return multiplicar\n",
    "        case _:\n",
    "            print('Simbolo inválido')\n",
    "            "
   ]
  },
  {
   "cell_type": "code",
   "execution_count": 18,
   "metadata": {},
   "outputs": [
    {
     "data": {
      "text/plain": [
       "0.5"
      ]
     },
     "execution_count": 18,
     "metadata": {},
     "output_type": "execute_result"
    }
   ],
   "source": [
    "Calcular(\"/\")(5,10)"
   ]
  }
 ],
 "metadata": {
  "kernelspec": {
   "display_name": "Python 3",
   "language": "python",
   "name": "python3"
  },
  "language_info": {
   "codemirror_mode": {
    "name": "ipython",
    "version": 3
   },
   "file_extension": ".py",
   "mimetype": "text/x-python",
   "name": "python",
   "nbconvert_exporter": "python",
   "pygments_lexer": "ipython3",
   "version": "3.12.6"
  }
 },
 "nbformat": 4,
 "nbformat_minor": 2
}
