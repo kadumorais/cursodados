{
 "cells": [
  {
   "cell_type": "markdown",
   "metadata": {},
   "source": [
    "Anotações da primeira aula\n",
    "\n",
    "São conhecimentos mais básicos de python que acho importante manter guardado para futuras referências."
   ]
  },
  {
   "cell_type": "code",
   "execution_count": 1,
   "metadata": {},
   "outputs": [
    {
     "name": "stdout",
     "output_type": "stream",
     "text": [
      "True\n",
      "False\n",
      "False\n",
      "True\n"
     ]
    }
   ],
   "source": [
    "#Prints como validações de dados\n",
    "x = 10\n",
    "y = 6\n",
    "\n",
    "print(x>y)\n",
    "print(x<y)\n",
    "print(x>=y*x)\n",
    "print((x/2)!=(y))\n"
   ]
  },
  {
   "cell_type": "markdown",
   "metadata": {},
   "source": [
    "Estrutura de dados"
   ]
  },
  {
   "cell_type": "markdown",
   "metadata": {},
   "source": [
    "Listas - Podem ser multiníveis (ter listas dentro de listas)"
   ]
  },
  {
   "cell_type": "code",
   "execution_count": 2,
   "metadata": {},
   "outputs": [
    {
     "data": {
      "text/plain": [
       "'sete'"
      ]
     },
     "execution_count": 2,
     "metadata": {},
     "output_type": "execute_result"
    }
   ],
   "source": [
    "minha_lista = [1,3.1,'sete', False]\n",
    "minha_lista[2]"
   ]
  },
  {
   "cell_type": "code",
   "execution_count": 3,
   "metadata": {},
   "outputs": [
    {
     "data": {
      "text/plain": [
       "3"
      ]
     },
     "execution_count": 3,
     "metadata": {},
     "output_type": "execute_result"
    }
   ],
   "source": [
    "minhas_lista2 = [1,2,[3,4]]\n",
    "minhas_lista2[2][0]"
   ]
  },
  {
   "cell_type": "code",
   "execution_count": 5,
   "metadata": {},
   "outputs": [
    {
     "name": "stdout",
     "output_type": "stream",
     "text": [
      "[1, 2, [3, 4], 'Novo item', 'Novo item']\n"
     ]
    }
   ],
   "source": [
    "minhas_lista2.append('Novo item')\n",
    "print(minhas_lista2)"
   ]
  },
  {
   "cell_type": "code",
   "execution_count": 7,
   "metadata": {},
   "outputs": [
    {
     "name": "stdout",
     "output_type": "stream",
     "text": [
      "[1, 2, [3, 4]]\n"
     ]
    }
   ],
   "source": [
    "minhas_lista2.pop()\n",
    "print(minhas_lista2)"
   ]
  },
  {
   "cell_type": "code",
   "execution_count": 8,
   "metadata": {},
   "outputs": [
    {
     "name": "stdout",
     "output_type": "stream",
     "text": [
      "[1, 3.1, 'sete', False, 1, 2, [3, 4]]\n"
     ]
    }
   ],
   "source": [
    "minha_lista_geral = minha_lista + minhas_lista2\n",
    "print(minha_lista_geral)"
   ]
  },
  {
   "cell_type": "markdown",
   "metadata": {},
   "source": [
    "Ordanação de listas"
   ]
  },
  {
   "cell_type": "code",
   "execution_count": 9,
   "metadata": {},
   "outputs": [
    {
     "name": "stdout",
     "output_type": "stream",
     "text": [
      "[5, 2, 1, 3, 4]\n",
      "[1, 2, 3, 4, 5]\n",
      "[5, 4, 3, 2, 1]\n"
     ]
    }
   ],
   "source": [
    "lista_num = [5,2,1,3,4]\n",
    "print(lista_num)\n",
    "#asc\n",
    "lista_num.sort()\n",
    "print(lista_num)\n",
    "#des\n",
    "lista_num.sort(reverse=True)\n",
    "print(lista_num)\n"
   ]
  },
  {
   "cell_type": "code",
   "execution_count": 10,
   "metadata": {},
   "outputs": [
    {
     "name": "stdout",
     "output_type": "stream",
     "text": [
      "[1, 3.1, 'sete', False]\n",
      "[5, 3.1, 'sete', False]\n"
     ]
    }
   ],
   "source": [
    "print(minha_lista)\n",
    "minha_lista[0] = 5\n",
    "print(minha_lista)"
   ]
  },
  {
   "cell_type": "markdown",
   "metadata": {},
   "source": [
    "Dicionário\n",
    "\n",
    "é uma estrutura de dados mutável, não ordenada, que é mapeada por chaves e valores"
   ]
  },
  {
   "cell_type": "code",
   "execution_count": 11,
   "metadata": {},
   "outputs": [
    {
     "data": {
      "text/plain": [
       "{'nome': 'Carlos Eduardo', 'idade': 25}"
      ]
     },
     "execution_count": 11,
     "metadata": {},
     "output_type": "execute_result"
    }
   ],
   "source": [
    "cadu = {\n",
    "    'nome': 'Carlos Eduardo',\n",
    "    'idade': 25\n",
    "}\n",
    "\n",
    "cadu"
   ]
  },
  {
   "cell_type": "code",
   "execution_count": 12,
   "metadata": {},
   "outputs": [
    {
     "data": {
      "text/plain": [
       "{'nome': 'Carlos Eduardo Morais', 'idade': 25}"
      ]
     },
     "execution_count": 12,
     "metadata": {},
     "output_type": "execute_result"
    }
   ],
   "source": [
    "#Trocar valor\n",
    "cadu['nome'] = 'Carlos Eduardo Morais'\n",
    "cadu"
   ]
  },
  {
   "cell_type": "code",
   "execution_count": 13,
   "metadata": {},
   "outputs": [
    {
     "data": {
      "text/plain": [
       "{'nome': 'Carlos Eduardo Morais', 'idade': 25, 'altura': 1.8}"
      ]
     },
     "execution_count": 13,
     "metadata": {},
     "output_type": "execute_result"
    }
   ],
   "source": [
    "#Adicionar nova chave\n",
    "cadu['altura'] = 1.80\n",
    "cadu"
   ]
  },
  {
   "cell_type": "markdown",
   "metadata": {},
   "source": [
    "Tupla\n",
    "\n",
    "Tupla são imutáveis, ou seja, não podemos adicionar novos itens a tupla. Semelhante a listam possui valores ordenados por índice."
   ]
  },
  {
   "cell_type": "code",
   "execution_count": 14,
   "metadata": {},
   "outputs": [
    {
     "name": "stdout",
     "output_type": "stream",
     "text": [
      "(1, 2.0, '3')\n"
     ]
    },
    {
     "ename": "AttributeError",
     "evalue": "'tuple' object has no attribute 'append'",
     "output_type": "error",
     "traceback": [
      "\u001b[1;31m---------------------------------------------------------------------------\u001b[0m",
      "\u001b[1;31mAttributeError\u001b[0m                            Traceback (most recent call last)",
      "Cell \u001b[1;32mIn[14], line 3\u001b[0m\n\u001b[0;32m      1\u001b[0m minha_tupla \u001b[38;5;241m=\u001b[39m (\u001b[38;5;241m1\u001b[39m,\u001b[38;5;241m2.0\u001b[39m,\u001b[38;5;124m'\u001b[39m\u001b[38;5;124m3\u001b[39m\u001b[38;5;124m'\u001b[39m)\n\u001b[0;32m      2\u001b[0m \u001b[38;5;28mprint\u001b[39m(minha_tupla)\n\u001b[1;32m----> 3\u001b[0m \u001b[43mminha_tupla\u001b[49m\u001b[38;5;241;43m.\u001b[39;49m\u001b[43mappend\u001b[49m(\u001b[38;5;124m'\u001b[39m\u001b[38;5;124mQuatro\u001b[39m\u001b[38;5;124m'\u001b[39m)\n\u001b[0;32m      4\u001b[0m \u001b[38;5;28mprint\u001b[39m(minha_tupla)\n",
      "\u001b[1;31mAttributeError\u001b[0m: 'tuple' object has no attribute 'append'"
     ]
    }
   ],
   "source": [
    "minha_tupla = (1,2.0,'3')\n",
    "print(minha_tupla)\n",
    "#Isso abaixo da erro:\n",
    "#minha_tupla.append('Quatro')\n",
    "#print(minha_tupla)"
   ]
  },
  {
   "cell_type": "code",
   "execution_count": 15,
   "metadata": {},
   "outputs": [
    {
     "data": {
      "text/plain": [
       "[1, 2.0, '3']"
      ]
     },
     "execution_count": 15,
     "metadata": {},
     "output_type": "execute_result"
    }
   ],
   "source": [
    "minha_lista3 = list(minha_tupla)\n",
    "minha_lista3"
   ]
  },
  {
   "cell_type": "markdown",
   "metadata": {},
   "source": [
    "Sets\n",
    "\n",
    "Sets são um tipo de estrutura ou coleção que é mutável e não ordenada. Itens em sets não podem ser duplicados, então apenas 1 item para cada elemento é permitido. Exemplo: não podemos ter duas entradas 'Maçã\" no set.\n",
    "\n",
    "Apenas for acessa aos itens. Aula três fala mais sobre."
   ]
  },
  {
   "cell_type": "code",
   "execution_count": 16,
   "metadata": {},
   "outputs": [],
   "source": [
    "meu_set = {1,2,2,3,4,5,2}"
   ]
  },
  {
   "cell_type": "code",
   "execution_count": 17,
   "metadata": {},
   "outputs": [
    {
     "ename": "TypeError",
     "evalue": "'set' object is not subscriptable",
     "output_type": "error",
     "traceback": [
      "\u001b[1;31m---------------------------------------------------------------------------\u001b[0m",
      "\u001b[1;31mTypeError\u001b[0m                                 Traceback (most recent call last)",
      "Cell \u001b[1;32mIn[17], line 1\u001b[0m\n\u001b[1;32m----> 1\u001b[0m \u001b[43mmeu_set\u001b[49m\u001b[43m[\u001b[49m\u001b[38;5;241;43m0\u001b[39;49m\u001b[43m]\u001b[49m\n",
      "\u001b[1;31mTypeError\u001b[0m: 'set' object is not subscriptable"
     ]
    }
   ],
   "source": [
    "meu_set[0]"
   ]
  },
  {
   "cell_type": "code",
   "execution_count": 20,
   "metadata": {},
   "outputs": [
    {
     "data": {
      "text/plain": [
       "[1, 2, 3, 4]"
      ]
     },
     "execution_count": 20,
     "metadata": {},
     "output_type": "execute_result"
    }
   ],
   "source": [
    "minha_lista_dup = [1,1,2,2,3,3,4,4]\n",
    "meu_set = set(minha_lista_dup)\n",
    "meu_set\n",
    "minha_lista_sem_dupli = list(meu_set)\n",
    "minha_lista_sem_dupli"
   ]
  },
  {
   "cell_type": "markdown",
   "metadata": {},
   "source": [
    "List - mutável, ordenado, acesso por indice\n",
    "dict - mutável, não ordenado, acesso por chave\n",
    "tuple - não mutável, ordenado, acesso por indice\n",
    "set - mutável, não ordenado, acesso por valor"
   ]
  },
  {
   "cell_type": "code",
   "execution_count": 22,
   "metadata": {},
   "outputs": [
    {
     "name": "stdout",
     "output_type": "stream",
     "text": [
      "['Abacate', 'Banana', 'Maçã', 'Laranja', 'Pera']\n"
     ]
    }
   ],
   "source": [
    "#Para não repetir itens da lista, fazer virar set\n",
    "\n",
    "frutas = ['Maçã','Pera','Banana','Abacate','Laranja']\n",
    "\n",
    "fruta = input('Escreva uma fruta')\n",
    "frutas.append(fruta)\n",
    "\n",
    "frutas = list(set(frutas))\n",
    "print(frutas)"
   ]
  }
 ],
 "metadata": {
  "kernelspec": {
   "display_name": "Python 3",
   "language": "python",
   "name": "python3"
  },
  "language_info": {
   "codemirror_mode": {
    "name": "ipython",
    "version": 3
   },
   "file_extension": ".py",
   "mimetype": "text/x-python",
   "name": "python",
   "nbconvert_exporter": "python",
   "pygments_lexer": "ipython3",
   "version": "3.12.6"
  }
 },
 "nbformat": 4,
 "nbformat_minor": 2
}
